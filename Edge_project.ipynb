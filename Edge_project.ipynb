{
  "nbformat": 4,
  "nbformat_minor": 0,
  "metadata": {
    "colab": {
      "provenance": [],
      "authorship_tag": "ABX9TyMj5eYWr3Qr5N8F1QQsZp+Q",
      "include_colab_link": true
    },
    "kernelspec": {
      "name": "python3",
      "display_name": "Python 3"
    },
    "language_info": {
      "name": "python"
    }
  },
  "cells": [
    {
      "cell_type": "markdown",
      "metadata": {
        "id": "view-in-github",
        "colab_type": "text"
      },
      "source": [
        "<a href=\"https://colab.research.google.com/github/j-f-5152/Edge_project/blob/main/Edge_project.ipynb\" target=\"_parent\"><img src=\"https://colab.research.google.com/assets/colab-badge.svg\" alt=\"Open In Colab\"/></a>"
      ]
    },
    {
      "cell_type": "code",
      "execution_count": 1,
      "metadata": {
        "colab": {
          "base_uri": "https://localhost:8080/"
        },
        "id": "3PZszPSrf9_G",
        "outputId": "558b326b-3ac5-4116-d5c9-c5aacb26e75e"
      },
      "outputs": [
        {
          "output_type": "stream",
          "name": "stdout",
          "text": [
            "Enter a number (e.g., 10,000 or 10000): $336,88890,8765\n",
            "Sum of digits: 71\n"
          ]
        }
      ],
      "source": [
        "# Function to calculate the sum of digits\n",
        "def sum_of_digits(num_str):\n",
        "    # Remove non-digit characters\n",
        "    cleaned_num = ''.join(char for char in num_str if char.isdigit())\n",
        "    return sum(int(digit) for digit in cleaned_num)\n",
        "\n",
        "# Taking input from the user\n",
        "number = input(\"Enter a number (e.g., 10,000 or 10000): \")\n",
        "if not number.strip():  # Check if input is empty\n",
        "    print(\"Please enter a valid number.\")\n",
        "else:\n",
        "    print(\"Sum of digits:\", sum_of_digits(number))"
      ]
    }
  ]
}